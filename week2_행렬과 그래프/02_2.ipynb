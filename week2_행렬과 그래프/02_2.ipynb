{
 "cells": [
  {
   "cell_type": "code",
   "execution_count": 1,
   "metadata": {},
   "outputs": [],
   "source": [
    "import numpy as np\n",
    "def print_val(x):\n",
    "    print \"Type: \", type(x)\n",
    "    print \"Shape:\" , x.shape\n",
    "    print \"값: \\n\", x\n",
    "    print \" \""
   ]
  },
  {
   "cell_type": "code",
   "execution_count": 4,
   "metadata": {},
   "outputs": [
    {
     "name": "stdout",
     "output_type": "stream",
     "text": [
      "Type:  <type 'numpy.ndarray'>\n",
      "Shape: (4,)\n",
      "값: \n",
      "[1 2 3 4]\n",
      " \n",
      "Type:  <type 'numpy.ndarray'>\n",
      "Shape: (4,)\n",
      "값: \n",
      "[5 2 3 4]\n",
      " \n"
     ]
    }
   ],
   "source": [
    "#rank 1 np array\n",
    "#x=np.array([1,2,3])\n",
    "x=np.array([1,2,3,4])\n",
    "print_val(x)\n",
    "\n",
    "x[0]=5\n",
    "print_val(x)"
   ]
  },
  {
   "cell_type": "code",
   "execution_count": 10,
   "metadata": {},
   "outputs": [
    {
     "name": "stdout",
     "output_type": "stream",
     "text": [
      "Type:  <type 'numpy.ndarray'>\n",
      "Shape: (2, 3)\n",
      "값: \n",
      "[[1 2 3]\n",
      " [4 5 6]]\n",
      " \n",
      "Type:  <type 'numpy.ndarray'>\n",
      "Shape: (2, 2)\n",
      "값: \n",
      "[[0. 0.]\n",
      " [0. 0.]]\n",
      " \n",
      "Type:  <type 'numpy.ndarray'>\n",
      "Shape: (3, 2)\n",
      "값: \n",
      "[[1. 1.]\n",
      " [1. 1.]\n",
      " [1. 1.]]\n",
      " \n",
      "Type:  <type 'numpy.ndarray'>\n",
      "Shape: (4, 5)\n",
      "값: \n",
      "[[1. 0. 0. 0. 0.]\n",
      " [0. 1. 0. 0. 0.]\n",
      " [0. 0. 1. 0. 0.]\n",
      " [0. 0. 0. 1. 0.]]\n",
      " \n"
     ]
    }
   ],
   "source": [
    "#rank2 np array\n",
    "y=np.array([[1,2,3],[4,5,6]]) #행 2 열 3\n",
    "print_val(y)\n",
    "\n",
    "#0으로 초기화해야하는 경우\n",
    "a=np.zeros((2,2)) #전달 인자로 shape를 넣어준다.\n",
    "print_val(a)\n",
    "\n",
    "#1로 초기화해야하는 경우\n",
    "a=np.ones((3,2)) #전달 인자로 shape를 넣어준다. 3x2 tensor에다가\n",
    "print_val(a)\n",
    "\n",
    "#단위행렬\n",
    "a=np.eye(4,5) #다른것과 쓰는법이 다르다\n",
    "print_val(a)"
   ]
  },
  {
   "cell_type": "code",
   "execution_count": 14,
   "metadata": {},
   "outputs": [
    {
     "name": "stdout",
     "output_type": "stream",
     "text": [
      "Type:  <type 'numpy.ndarray'>\n",
      "Shape: (4, 4)\n",
      "값: \n",
      "[[0.91041979 0.46826893 0.26332804 0.72349431]\n",
      " [0.31235395 0.54511623 0.1948002  0.60010513]\n",
      " [0.993385   0.20672167 0.81576146 0.12269176]\n",
      " [0.20325834 0.78950743 0.24844178 0.28926426]]\n",
      " \n",
      "Type:  <type 'numpy.ndarray'>\n",
      "Shape: (4, 4)\n",
      "값: \n",
      "[[ 0.63688701 -0.4982021  -0.72781565  2.34360945]\n",
      " [ 0.82298034 -2.50402068 -0.70569868 -0.87733803]\n",
      " [-0.5177229   0.3627289   1.78058063  1.02864351]\n",
      " [ 1.53481563  0.27891673 -0.86002203 -1.07516024]]\n",
      " \n"
     ]
    }
   ],
   "source": [
    "#랜덤행렬 만들기\n",
    "a=np.random.random((4,4)) #0~1까지의 값이 선택될 확률이 모두 같다. shape만 지정해주면됨.\n",
    "print_val(a)\n",
    "\n",
    "a=np.random.randn(4,4) #0~1까지 값 나올 확률이 가우시안 분포를 따름\n",
    "print_val(a)"
   ]
  },
  {
   "cell_type": "code",
   "execution_count": 17,
   "metadata": {},
   "outputs": [
    {
     "name": "stdout",
     "output_type": "stream",
     "text": [
      "Type:  <type 'numpy.ndarray'>\n",
      "Shape: (3, 4)\n",
      "값: \n",
      "[[ 1  2  3  4]\n",
      " [ 5  6  7  8]\n",
      " [ 9 10 11 12]]\n",
      " \n",
      "Type:  <type 'numpy.ndarray'>\n",
      "Shape: (2, 2)\n",
      "값: \n",
      "[[2 3]\n",
      " [6 7]]\n",
      " \n",
      "Type:  <type 'numpy.ndarray'>\n",
      "Shape: (4,)\n",
      "값: \n",
      "[5 6 7 8]\n",
      " \n"
     ]
    }
   ],
   "source": [
    "#인덱스를 통해 원소에 접근하기\n",
    "a=np.array([[1,2,3,4],[5,6,7,8],[9,10,11,12]])\n",
    "print_val(a)\n",
    "\n",
    "b=a[:2,1:3] #,기준으로 앞에가 행, 뒤에는 열//행 0~1, 열 1~2//:2는 2직전까지 보겠다.\n",
    "print_val(b)\n",
    "\n",
    "row1=a[1,:]# : -> 모든 값 // 1행 전부를 원한다는 의미\n",
    "print_val(row1)"
   ]
  },
  {
   "cell_type": "code",
   "execution_count": 22,
   "metadata": {},
   "outputs": [
    {
     "name": "stdout",
     "output_type": "stream",
     "text": [
      "Type:  <type 'numpy.ndarray'>\n",
      "Shape: (2, 2)\n",
      "값: \n",
      "[[ 6.  8.]\n",
      " [10. 12.]]\n",
      " \n",
      "Type:  <type 'numpy.ndarray'>\n",
      "Shape: (2, 2)\n",
      "값: \n",
      "[[ 6.  8.]\n",
      " [10. 12.]]\n",
      " \n",
      "Type:  <type 'numpy.ndarray'>\n",
      "Shape: (2, 2)\n",
      "값: \n",
      "[[-4. -4.]\n",
      " [-4. -4.]]\n",
      " \n",
      "Type:  <type 'numpy.ndarray'>\n",
      "Shape: (2, 2)\n",
      "값: \n",
      "[[-4. -4.]\n",
      " [-4. -4.]]\n",
      " \n",
      "Type:  <type 'numpy.ndarray'>\n",
      "Shape: (2, 2)\n",
      "값: \n",
      "[[ 5. 12.]\n",
      " [21. 32.]]\n",
      " \n",
      "Type:  <type 'numpy.ndarray'>\n",
      "Shape: (2, 2)\n",
      "값: \n",
      "[[ 5. 12.]\n",
      " [21. 32.]]\n",
      " \n",
      "Type:  <type 'numpy.ndarray'>\n",
      "Shape: (2, 2)\n",
      "값: \n",
      "[[0.2        0.33333333]\n",
      " [0.42857143 0.5       ]]\n",
      " \n",
      "Type:  <type 'numpy.ndarray'>\n",
      "Shape: (2, 2)\n",
      "값: \n",
      "[[0.2        0.33333333]\n",
      " [0.42857143 0.5       ]]\n",
      " \n",
      "Type:  <type 'numpy.ndarray'>\n",
      "Shape: (2, 2)\n",
      "값: \n",
      "[[1.         1.41421356]\n",
      " [1.73205081 2.        ]]\n",
      " \n",
      "Type:  <type 'numpy.ndarray'>\n",
      "Shape: (2, 2)\n",
      "값: \n",
      "[[2.23606798 2.44948974]\n",
      " [2.64575131 2.82842712]]\n",
      " \n"
     ]
    }
   ],
   "source": [
    "#행렬 연산\n",
    "m1=np.array([[1,2],[3,4]],dtype=np.float64)\n",
    "m2=np.array([[5,6],[7,8]], dtype=np.float64)\n",
    "\n",
    "#elementwise sum, 더하기//elementwise: 같은 위치의 원소끼리 더하겠다는 의미\n",
    "print_val(m1+m2)\n",
    "print_val(np.add(m1,m2)) #둘이 같은말..\n",
    "\n",
    "#elementwise difference, 빼기\n",
    "print_val(m1-m2)\n",
    "print_val(np.subtract(m1,m2))\n",
    "\n",
    "#elementwise product, 곱하기\n",
    "print_val(m1*m2)\n",
    "print_val(np.multiply(m1,m2))\n",
    "\n",
    "#elementwise division, 나누기\n",
    "print_val(m1/m2)\n",
    "print_val(np.divide(m1,m2))\n",
    "\n",
    "#elementwise square root, 루트 씌우기\n",
    "print_val(np.sqrt(m1))\n",
    "print_val(np.sqrt(m2))"
   ]
  },
  {
   "cell_type": "code",
   "execution_count": null,
   "metadata": {},
   "outputs": [],
   "source": []
  }
 ],
 "metadata": {
  "kernelspec": {
   "display_name": "conda_pytorch_p27",
   "language": "python",
   "name": "conda_pytorch_p27"
  },
  "language_info": {
   "codemirror_mode": {
    "name": "ipython",
    "version": 2
   },
   "file_extension": ".py",
   "mimetype": "text/x-python",
   "name": "python",
   "nbconvert_exporter": "python",
   "pygments_lexer": "ipython2",
   "version": "2.7.15"
  }
 },
 "nbformat": 4,
 "nbformat_minor": 4
}
