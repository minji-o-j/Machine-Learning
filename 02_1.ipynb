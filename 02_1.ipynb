{
 "cells": [
  {
   "cell_type": "markdown",
   "metadata": {},
   "source": [
    "import numpy\n",
    "#import libraries"
   ]
  },
  {
   "cell_type": "code",
   "execution_count": 1,
   "metadata": {},
   "outputs": [],
   "source": [
    "import numpy"
   ]
  },
  {
   "cell_type": "markdown",
   "metadata": {},
   "source": [
    "# import libraries\n",
    "## descriptions\n",
    "### test\n",
    "#### testtest\n",
    "##### testtt"
   ]
  },
  {
   "cell_type": "code",
   "execution_count": 2,
   "metadata": {},
   "outputs": [
    {
     "name": "stdout",
     "output_type": "stream",
     "text": [
      "Regression은(는) 기계학습 내용입니다.\n",
      "Classification은(는) 기계학습 내용입니다.\n",
      "SVM은(는) 기계학습 내용입니다.\n",
      "Clustering은(는) 기계학습 내용입니다.\n",
      "Demension reduction은(는) 기계학습 내용입니다.\n",
      "%s은(는) 심층학습 내용입니다.\n",
      "CNN은(는) convolution neural network입니다.\n",
      "%s은(는) 심층학습 내용입니다.\n",
      "%s은(는) 심층학습 내용입니다.\n",
      "%s은(는) 심층학습 내용입니다.\n"
     ]
    }
   ],
   "source": [
    "contents = [\"Regression\",\"Classification\",\"SVM\",\"Clustering\",\"Demension reduction\",\"NN\",\"CNN\",\"AE\",\"GAN\",\"RNN\"]\n",
    "\n",
    "for con in contents:\n",
    "    if con in [\"Regression\",\"Classification\",\"SVM\",\"Clustering\",\"Demension reduction\"]:\n",
    "        print(\"%s은(는) 기계학습 내용입니다.\" %con)\n",
    "    elif con in [\"CNN\"]:\n",
    "        print(\"%s은(는) convolution neural network입니다.\" %con)\n",
    "    else:\n",
    "        print(\"%s은(는) 심층학습 내용입니다.\")"
   ]
  },
  {
   "cell_type": "code",
   "execution_count": 4,
   "metadata": {},
   "outputs": [
    {
     "name": "stdout",
     "output_type": "stream",
     "text": [
      "[0/10]: Regression\n",
      "[1/10]: Classification\n",
      "[2/10]: SVM\n",
      "[3/10]: Clustering\n",
      "[4/10]: Demension reduction\n",
      "[5/10]: NN\n",
      "[6/10]: CNN\n",
      "[7/10]: AE\n",
      "[8/10]: GAN\n",
      "[9/10]: RNN\n"
     ]
    }
   ],
   "source": [
    "for(i,con) in enumerate(contents):\n",
    "    print(\"[%d/%d]: %s\" %(i,len(contents),con))\n",
    "#index까지 i로 받음\n",
    "#enumerate는 특히 인공지능 프로그램에서 연산을 시키기 위해 모든 개체를 숫자로 매핑시킨 것\n",
    "#i는 0~원소개수-1까지 받게됨"
   ]
  },
  {
   "cell_type": "code",
   "execution_count": 5,
   "metadata": {},
   "outputs": [
    {
     "name": "stdout",
     "output_type": "stream",
     "text": [
      "10.0+20.0=30.0\n"
     ]
    }
   ],
   "source": [
    "#함수 만들기\n",
    "def sum(a,b):\n",
    "    return a+b\n",
    "\n",
    "x=10.0\n",
    "y=20.0\n",
    "print(\"%.1f+%.1f=%.1f\" %(x,y,sum(x,y)))"
   ]
  },
  {
   "cell_type": "code",
   "execution_count": 7,
   "metadata": {},
   "outputs": [
    {
     "name": "stdout",
     "output_type": "stream",
     "text": [
      "[]\n",
      "['a']\n",
      "['a', 123]\n",
      "['a', 123, ['a', 'b']]\n",
      "['a', 123, ['a', 'b']]\n"
     ]
    }
   ],
   "source": [
    "#리스트\n",
    "a=[]\n",
    "b=[1,2,3]\n",
    "c=[\"Hello\",\",\",\"world\"]\n",
    "d=[1,2,3,\"x\",\"y\",\"z\"]\n",
    "x=[]  #아무 원소도 없는 경우\n",
    "\n",
    "print(x)\n",
    "\n",
    "x.append('a')  #원소 추가, append:멤버 함수(리스트 자료형에 내장된 함수)\n",
    "print(x)\n",
    "x.append(123)\n",
    "print(x)\n",
    "x.append([\"a\",\"b\"])  #리스트 자체를 추가하면 리스트 형태로 출력됨\n",
    "print x\n",
    "print(x)"
   ]
  },
  {
   "cell_type": "code",
   "execution_count": 10,
   "metadata": {},
   "outputs": [
    {
     "name": "stdout",
     "output_type": "stream",
     "text": [
      "{'town': 'Seoul', 'job': 'student', 'name': 'Minji'}\n",
      "['Minji']\n"
     ]
    }
   ],
   "source": [
    "#딕셔너리\n",
    "dic=dict()\n",
    "dic[\"name\"]=\"Minji\"\n",
    "dic[\"town\"]=\"Seoul\"\n",
    "dic[\"job\"]=\"student\"\n",
    "print dic\n",
    "print[dic[\"name\"]]"
   ]
  },
  {
   "cell_type": "code",
   "execution_count": 14,
   "metadata": {},
   "outputs": [
    {
     "name": "stdout",
     "output_type": "stream",
     "text": [
      "Minji 학생은 공부합니다\n",
      "Minji 학생은 열심히 공부합니다.\n"
     ]
    }
   ],
   "source": [
    "#클래스\n",
    "class Student:\n",
    "    #생성자\n",
    "    def __init__(self,name):\n",
    "        self.name=name\n",
    "    \n",
    "    #메써드\n",
    "    def study(self,hard=False):\n",
    "        if hard:\n",
    "            print \"%s 학생은 열심히 공부합니다.\" %self.name\n",
    "        else:\n",
    "            print \"%s 학생은 공부합니다\" %self.name\n",
    "            \n",
    "s=Student('Minji')  #객체 생성\n",
    "s.study()\n",
    "s.study(hard=True)"
   ]
  },
  {
   "cell_type": "code",
   "execution_count": null,
   "metadata": {},
   "outputs": [],
   "source": []
  }
 ],
 "metadata": {
  "kernelspec": {
   "display_name": "conda_pytorch_p27",
   "language": "python",
   "name": "conda_pytorch_p27"
  },
  "language_info": {
   "codemirror_mode": {
    "name": "ipython",
    "version": 2
   },
   "file_extension": ".py",
   "mimetype": "text/x-python",
   "name": "python",
   "nbconvert_exporter": "python",
   "pygments_lexer": "ipython2",
   "version": "2.7.15"
  }
 },
 "nbformat": 4,
 "nbformat_minor": 4
}
